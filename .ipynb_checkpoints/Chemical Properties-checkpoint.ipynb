{
 "cells": [
  {
   "cell_type": "code",
   "execution_count": 1,
   "metadata": {},
   "outputs": [
    {
     "name": "stdout",
     "output_type": "stream",
     "text": [
      "[314, 'K']\n",
      "[221.3, 'K']\n",
      "You're an Idiot\n"
     ]
    }
   ],
   "source": [
    "exec(open(\"Methanol.py\").read())\n",
    "exec(open(\"Dimethyl_Ether.py\").read())\n",
    "exec(open(\"Water.py\").read())\n",
    "\n",
    "print(MethUFL())\n",
    "print(DMEUFL())\n",
    "print(WatUFL())"
   ]
  }
 ],
 "metadata": {
  "kernelspec": {
   "display_name": "Python 3",
   "language": "python",
   "name": "python3"
  },
  "language_info": {
   "codemirror_mode": {
    "name": "ipython",
    "version": 3
   },
   "file_extension": ".py",
   "mimetype": "text/x-python",
   "name": "python",
   "nbconvert_exporter": "python",
   "pygments_lexer": "ipython3",
   "version": "3.7.3"
  }
 },
 "nbformat": 4,
 "nbformat_minor": 2
}
