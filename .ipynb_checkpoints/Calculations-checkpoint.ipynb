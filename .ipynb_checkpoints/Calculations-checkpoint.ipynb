{
 "cells": [
  {
   "cell_type": "markdown",
   "metadata": {},
   "source": [
    "# Importing Database"
   ]
  },
  {
   "cell_type": "code",
   "execution_count": 1,
   "metadata": {},
   "outputs": [],
   "source": [
    "exec(open(\"Methanol.py\").read())\n",
    "exec(open(\"Dimethyl_Ether.py\").read())\n",
    "exec(open(\"Water.py\").read())"
   ]
  },
  {
   "cell_type": "markdown",
   "metadata": {},
   "source": [
    "# Storage Tank Volume"
   ]
  },
  {
   "cell_type": "code",
   "execution_count": 25,
   "metadata": {},
   "outputs": [
    {
     "name": "stdout",
     "output_type": "stream",
     "text": [
      "VStorMeth = 3763.8481009158995 m^3/2 weeks\n",
      "VStorDME = 1676.4292004102078 m^3/week\n",
      "VStorWat = 1645.693443324177 m^3/month\n",
      "22.281692032865347\n",
      "9.137833018727585\n"
     ]
    }
   ],
   "source": [
    "import numpy as np\n",
    "\n",
    "mDME = (50000*1000)/12 #kg/month\n",
    "nDME = mDME/DMEMW()[0] #kmol/month\n",
    "nWat = nDME            #kmol/month\n",
    "nMeth = 2*nDME         #kmol/month\n",
    "\n",
    "VStorMeth = nMeth/MethρL(273.15 + 45)[0] #m^3/month\n",
    "VStorDME = nDME/DMEρL(273.15 + 45)[0] #m^3/month\n",
    "VStorWat = nWat/WatρL(273.15 + 45)[0] #m^3/month\n",
    "\n",
    "print(\"VStorMeth =\",VStorMeth/2,\"m^3/2 weeks\")\n",
    "print(\"VStorDME =\",VStorDME/4,\"m^3/week\")\n",
    "print(\"VStorWat =\",VStorWat,\"m^3/month\")\n",
    "\n",
    "def Findh(D,V):\n",
    "    return V/(np.pi*D**2/4)\n",
    "\n",
    "print(Findh(10,1750))\n",
    "print(Findh(10,1750)/2.4384)"
   ]
  },
  {
   "cell_type": "markdown",
   "metadata": {},
   "source": [
    "# Capcost PFR"
   ]
  },
  {
   "cell_type": "code",
   "execution_count": 27,
   "metadata": {},
   "outputs": [
    {
     "name": "stdout",
     "output_type": "stream",
     "text": [
      "3.223902308481169\n"
     ]
    }
   ],
   "source": [
    "print(1676.4292004102078/520)"
   ]
  }
 ],
 "metadata": {
  "kernelspec": {
   "display_name": "Python 3",
   "language": "python",
   "name": "python3"
  },
  "language_info": {
   "codemirror_mode": {
    "name": "ipython",
    "version": 3
   },
   "file_extension": ".py",
   "mimetype": "text/x-python",
   "name": "python",
   "nbconvert_exporter": "python",
   "pygments_lexer": "ipython3",
   "version": "3.7.3"
  }
 },
 "nbformat": 4,
 "nbformat_minor": 2
}
